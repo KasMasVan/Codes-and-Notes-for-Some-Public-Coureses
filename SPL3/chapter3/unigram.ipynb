{
  "nbformat": 4,
  "nbformat_minor": 0,
  "metadata": {
    "colab": {
      "name": "unigram.ipynb",
      "provenance": [],
      "authorship_tag": "ABX9TyMC+nLlNdM8bhg8mEWy1wmK",
      "include_colab_link": true
    },
    "kernelspec": {
      "name": "python3",
      "display_name": "Python 3"
    },
    "language_info": {
      "name": "python"
    }
  },
  "cells": [
    {
      "cell_type": "markdown",
      "metadata": {
        "id": "view-in-github",
        "colab_type": "text"
      },
      "source": [
        "<a href=\"https://colab.research.google.com/github/KasMasVan/Codes-and-Notes-for-Some-Public-Coureses/blob/main/SPL3/chapter3/unigram.ipynb\" target=\"_parent\"><img src=\"https://colab.research.google.com/assets/colab-badge.svg\" alt=\"Open In Colab\"/></a>"
      ]
    },
    {
      "cell_type": "code",
      "metadata": {
        "id": "hKFaeCNFpjBI"
      },
      "source": [
        "from collections import Counter\n",
        "from random import choices\n",
        "class corpus():\n",
        "  def __init__(self, corpus):\n",
        "    self.word_list = []\n",
        "    self.bigram_counter = {}\n",
        "    for sent in corpus:\n",
        "      words = sent.split() #the only prepocessing method I use for now.\n",
        "      self.word_list += words\n",
        "      #count bigram\n",
        "      for i in range(len(words) - 1):\n",
        "        if (words[i], words[i + 1]) not in self.bigram_counter:\n",
        "          self.bigram_counter[(words[i], words[i + 1])] = 1\n",
        "        else:\n",
        "          self.bigram_counter[(words[i], words[i + 1])] += 1\n",
        "    self.unigram_counter = Counter(self.word_list)\n",
        "\n",
        "  def count_unigram(self):\n",
        "    unigram_prob = {}\n",
        "    denominator = sum(self.unigram_counter.values())\n",
        "    for key in self.unigram_counter:\n",
        "      unigram_prob[key] = self.unigram_counter[key] / denominator\n",
        "    return unigram_prob\n",
        "  \n",
        "  def count_bigram(self):\n",
        "    bigram_prob = {}\n",
        "    for prefix in self.unigram_counter:\n",
        "      relative_dict = {}\n",
        "      for next_word in self.unigram_counter:\n",
        "        if(prefix, next_word) in self.bigram_counter:\n",
        "          relative_dict[(prefix, next_word)] = self.bigram_counter[(prefix, next_word)]\n",
        "      denominator = sum(relative_dict.values())\n",
        "      for key in relative_dict:\n",
        "        relative_dict[key] /= denominator\n",
        "      #merge two dict\n",
        "      bigram_prob = {**bigram_prob, **relative_dict}\n",
        "    return bigram_prob\n",
        "\n",
        "  def generate(self, max_len=10):\n",
        "    start = '<s>'\n",
        "    end = '</s>'\n",
        "    sent = [start]\n",
        "    while sent[-1] != end and len(sent) < max_len:\n",
        "      prefix = sent[-1]\n",
        "      #calculate relative frequency\n",
        "      relative_dict = {}\n",
        "      for key in self.unigram_counter:\n",
        "        if (prefix, key) in self.bigram_counter:\n",
        "          relative_dict[(prefix, key)] = self.bigram_counter[(prefix, key)]    \n",
        "      denominator = sum(relative_dict.values())\n",
        "      for key in relative_dict:\n",
        "        relative_dict[key] /= denominator\n",
        "      #generate a sample\n",
        "      next_bigram = choices(list(relative_dict.keys()), list(relative_dict.values()))\n",
        "      #update status\n",
        "      sent.append(next_bigram[0][-1])\n",
        "    return sent if sent[-1] == end else sent + [end]\n",
        "  \n",
        "  def compute_ppl(self, text):\n",
        "    text = text.split()\n",
        "    bigram_prob = self.count_bigram()\n",
        "    ppl = 1\n",
        "    for i in range(len(text) - 2):\n",
        "      w1, w2 = text[i], text[i+1]\n",
        "      ppl *= bigram_prob[(w1, w2)]\n",
        "    return pow(ppl, -1/(len(text) - 2))      "
      ],
      "execution_count": null,
      "outputs": []
    },
    {
      "cell_type": "code",
      "metadata": {
        "id": "FpsT_w8UPV7d"
      },
      "source": [
        "test_corpus = ['<s> I am Sam </s>',\n",
        "      '<s> Sam I am </s>',\n",
        "      '<s> I am Sam </s>',\n",
        "      '<s> I do not like green eggs and Sam </s>']\n",
        "\n",
        "my_corpus = corpus(test_corpus) "
      ],
      "execution_count": null,
      "outputs": []
    },
    {
      "cell_type": "code",
      "metadata": {
        "colab": {
          "base_uri": "https://localhost:8080/"
        },
        "id": "hHMqUPrFgCnl",
        "outputId": "8a142795-40ac-4992-e9e7-173aa63108a5"
      },
      "source": [
        "my_corpus.count_unigram()"
      ],
      "execution_count": null,
      "outputs": [
        {
          "output_type": "execute_result",
          "data": {
            "text/plain": [
              "{'</s>': 0.16,\n",
              " '<s>': 0.16,\n",
              " 'I': 0.16,\n",
              " 'Sam': 0.16,\n",
              " 'am': 0.12,\n",
              " 'and': 0.04,\n",
              " 'do': 0.04,\n",
              " 'eggs': 0.04,\n",
              " 'green': 0.04,\n",
              " 'like': 0.04,\n",
              " 'not': 0.04}"
            ]
          },
          "metadata": {},
          "execution_count": 10
        }
      ]
    },
    {
      "cell_type": "code",
      "metadata": {
        "colab": {
          "base_uri": "https://localhost:8080/"
        },
        "id": "Pp7PZcOsgGnU",
        "outputId": "742cd7d0-667a-4f7b-b403-957ef50e7bd6"
      },
      "source": [
        "my_corpus.count_bigram()"
      ],
      "execution_count": null,
      "outputs": [
        {
          "output_type": "execute_result",
          "data": {
            "text/plain": [
              "{('<s>', 'I'): 0.75,\n",
              " ('<s>', 'Sam'): 0.25,\n",
              " ('I', 'am'): 0.75,\n",
              " ('I', 'do'): 0.25,\n",
              " ('Sam', '</s>'): 0.75,\n",
              " ('Sam', 'I'): 0.25,\n",
              " ('am', '</s>'): 0.3333333333333333,\n",
              " ('am', 'Sam'): 0.6666666666666666,\n",
              " ('and', 'Sam'): 1.0,\n",
              " ('do', 'not'): 1.0,\n",
              " ('eggs', 'and'): 1.0,\n",
              " ('green', 'eggs'): 1.0,\n",
              " ('like', 'green'): 1.0,\n",
              " ('not', 'like'): 1.0}"
            ]
          },
          "metadata": {},
          "execution_count": 11
        }
      ]
    },
    {
      "cell_type": "code",
      "metadata": {
        "colab": {
          "base_uri": "https://localhost:8080/"
        },
        "id": "yiqluLI5gJxz",
        "outputId": "a6503de4-9714-4504-e9ba-d8e0fba6e4c0"
      },
      "source": [
        "my_corpus.generate()"
      ],
      "execution_count": null,
      "outputs": [
        {
          "output_type": "execute_result",
          "data": {
            "text/plain": [
              "['<s>', 'Sam', '</s>']"
            ]
          },
          "metadata": {},
          "execution_count": 12
        }
      ]
    },
    {
      "cell_type": "code",
      "metadata": {
        "colab": {
          "base_uri": "https://localhost:8080/"
        },
        "id": "7p9zmG6Z21ui",
        "outputId": "3ae4e119-eebb-4b74-f04a-d1c410c9dc65"
      },
      "source": [
        "my_corpus.compute_ppl('<s> I am Sam </s>')"
      ],
      "execution_count": null,
      "outputs": [
        {
          "output_type": "execute_result",
          "data": {
            "text/plain": [
              "1.3867225487012693"
            ]
          },
          "metadata": {},
          "execution_count": 13
        }
      ]
    }
  ]
}